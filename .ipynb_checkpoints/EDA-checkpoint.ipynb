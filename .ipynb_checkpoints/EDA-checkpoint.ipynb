{
 "cells": [
  {
   "cell_type": "markdown",
   "id": "589a9008-e2d3-4db6-a039-a93b8daaf561",
   "metadata": {},
   "source": [
    "# Exploratory Data Analysis for Steamit\n",
    "\n",
    "### Importing Necessary Libraries"
   ]
  },
  {
   "cell_type": "code",
   "execution_count": 1,
   "id": "e91b00d1-44eb-4dd2-8772-6b1f8b2f2681",
   "metadata": {},
   "outputs": [
    {
     "name": "stdout",
     "output_type": "stream",
     "text": [
      "Tables in the database: [('game_details',), ('game_reviews',), ('sqlite_sequence',)]\n"
     ]
    }
   ],
   "source": [
    "import sqlite3\n",
    "import matplotlib.pyplot as plt\n",
    "import seaborn as sns\n",
    "import re\n",
    "import nltk\n",
    "import pandas as pd\n",
    "import torch\n",
    "import numpy as np\n",
    "from nltk.corpus import stopwords\n",
    "from nltk.tokenize import word_tokenize\n",
    "from nltk.stem import WordNetLemmatizer\n",
    "from sklearn.feature_extraction.text import CountVectorizer\n",
    "from sklearn.decomposition import LatentDirichletAllocation\n",
    "from transformers import BertTokenizer, BertForSequenceClassification\n",
    "\n",
    "# Connect to the database\n",
    "conn = sqlite3.connect('steam_games.db')\n",
    "\n",
    "# Create a cursor object\n",
    "cursor = conn.cursor()\n",
    "\n",
    "# List all tables in the database\n",
    "cursor.execute(\"SELECT name FROM sqlite_master WHERE type='table';\")\n",
    "tables = cursor.fetchall()\n",
    "\n",
    "# Close the connection\n",
    "conn.close()\n",
    "\n",
    "# Print the list of tables\n",
    "print(\"Tables in the database:\", tables)\n"
   ]
  },
  {
   "cell_type": "code",
   "execution_count": 2,
   "id": "a3ff5207-0dcf-4005-9e6b-0392710aa0c3",
   "metadata": {},
   "outputs": [
    {
     "data": {
      "text/html": [
       "<div>\n",
       "<style scoped>\n",
       "    .dataframe tbody tr th:only-of-type {\n",
       "        vertical-align: middle;\n",
       "    }\n",
       "\n",
       "    .dataframe tbody tr th {\n",
       "        vertical-align: top;\n",
       "    }\n",
       "\n",
       "    .dataframe thead th {\n",
       "        text-align: right;\n",
       "    }\n",
       "</style>\n",
       "<table border=\"1\" class=\"dataframe\">\n",
       "  <thead>\n",
       "    <tr style=\"text-align: right;\">\n",
       "      <th></th>\n",
       "      <th>appid</th>\n",
       "      <th>name</th>\n",
       "      <th>description</th>\n",
       "      <th>price</th>\n",
       "      <th>release_date</th>\n",
       "      <th>developer</th>\n",
       "      <th>publisher</th>\n",
       "      <th>tags</th>\n",
       "    </tr>\n",
       "  </thead>\n",
       "  <tbody>\n",
       "    <tr>\n",
       "      <th>0</th>\n",
       "      <td>1462940</td>\n",
       "      <td>Ecto Portal</td>\n",
       "      <td>The next generation of spooky displays, create...</td>\n",
       "      <td>₹ 529</td>\n",
       "      <td>16 Jan, 2021</td>\n",
       "      <td>SpookyAction</td>\n",
       "      <td>SpookyAction</td>\n",
       "      <td>Action, Adventure</td>\n",
       "    </tr>\n",
       "    <tr>\n",
       "      <th>1</th>\n",
       "      <td>1462960</td>\n",
       "      <td>Evade Zero</td>\n",
       "      <td>Evade is a fast and intense local multiplayer ...</td>\n",
       "      <td>₹ 299</td>\n",
       "      <td>18 Dec, 2020</td>\n",
       "      <td>Jonathan Francis</td>\n",
       "      <td>Self Published</td>\n",
       "      <td>Action, Indie, Sports</td>\n",
       "    </tr>\n",
       "    <tr>\n",
       "      <th>2</th>\n",
       "      <td>1462970</td>\n",
       "      <td>Jumpman (C64/MSDOS)</td>\n",
       "      <td>Run, climb and jump from platform to platform ...</td>\n",
       "      <td>₹ 155</td>\n",
       "      <td>19 Nov, 2020</td>\n",
       "      <td>Epyx, Inc.</td>\n",
       "      <td>Pixel Games UK</td>\n",
       "      <td>Action, Adventure, Simulation</td>\n",
       "    </tr>\n",
       "    <tr>\n",
       "      <th>3</th>\n",
       "      <td>1462980</td>\n",
       "      <td>Dinosaurs Live Wallpaper: with Secret Sandboxes</td>\n",
       "      <td></td>\n",
       "      <td>N/A</td>\n",
       "      <td>Coming soon</td>\n",
       "      <td>William at Oxford</td>\n",
       "      <td>William at Oxford</td>\n",
       "      <td>Utilities</td>\n",
       "    </tr>\n",
       "    <tr>\n",
       "      <th>4</th>\n",
       "      <td>1462990</td>\n",
       "      <td>Rushaug: Feline Warfare</td>\n",
       "      <td>A tactical platformer combining stealth and fa...</td>\n",
       "      <td>N/A</td>\n",
       "      <td>To be announced</td>\n",
       "      <td>Tobias Edvardsen</td>\n",
       "      <td>Tobias Edvardsen</td>\n",
       "      <td>Action, Adventure</td>\n",
       "    </tr>\n",
       "  </tbody>\n",
       "</table>\n",
       "</div>"
      ],
      "text/plain": [
       "     appid                                             name  \\\n",
       "0  1462940                                      Ecto Portal   \n",
       "1  1462960                                       Evade Zero   \n",
       "2  1462970                              Jumpman (C64/MSDOS)   \n",
       "3  1462980  Dinosaurs Live Wallpaper: with Secret Sandboxes   \n",
       "4  1462990                          Rushaug: Feline Warfare   \n",
       "\n",
       "                                         description  price     release_date  \\\n",
       "0  The next generation of spooky displays, create...  ₹ 529     16 Jan, 2021   \n",
       "1  Evade is a fast and intense local multiplayer ...  ₹ 299     18 Dec, 2020   \n",
       "2  Run, climb and jump from platform to platform ...  ₹ 155     19 Nov, 2020   \n",
       "3                                                       N/A      Coming soon   \n",
       "4  A tactical platformer combining stealth and fa...    N/A  To be announced   \n",
       "\n",
       "           developer          publisher                           tags  \n",
       "0       SpookyAction       SpookyAction              Action, Adventure  \n",
       "1   Jonathan Francis     Self Published          Action, Indie, Sports  \n",
       "2         Epyx, Inc.     Pixel Games UK  Action, Adventure, Simulation  \n",
       "3  William at Oxford  William at Oxford                      Utilities  \n",
       "4   Tobias Edvardsen   Tobias Edvardsen              Action, Adventure  "
      ]
     },
     "execution_count": 2,
     "metadata": {},
     "output_type": "execute_result"
    }
   ],
   "source": [
    "# Correct table name based on your database structure\n",
    "game_table = 'game_details'  # Replace with the actual table name if different\n",
    "review_table = 'game_reviews'  # Replace with the actual table name if different\n",
    "\n",
    "# Reconnect to the database\n",
    "conn = sqlite3.connect('steam_games.db')\n",
    "\n",
    "# Load the data into pandas DataFrames\n",
    "games_df = pd.read_sql_query(f\"SELECT * FROM {game_table}\", conn)\n",
    "reviews_df = pd.read_sql_query(f\"SELECT * FROM {review_table}\", conn)\n",
    "\n",
    "# Close the connection\n",
    "conn.close()\n",
    "\n",
    "# Display the first few rows of the dataframes\n",
    "games_df.head()\n",
    "\n"
   ]
  },
  {
   "cell_type": "code",
   "execution_count": 3,
   "id": "cf0223d2-d559-4fea-a903-6eaf0577bc62",
   "metadata": {},
   "outputs": [
    {
     "data": {
      "text/plain": [
       "Index(['review_id', 'appid', 'review_text', 'voted_up', 'timestamp_created',\n",
       "       'author_playtime_forever', 'author_playtime_last_two_weeks',\n",
       "       'author_num_reviews'],\n",
       "      dtype='object')"
      ]
     },
     "execution_count": 3,
     "metadata": {},
     "output_type": "execute_result"
    }
   ],
   "source": [
    "reviews_df.columns"
   ]
  },
  {
   "cell_type": "code",
   "execution_count": 4,
   "id": "77910c27-bc0d-42ad-affc-cbce79d52d9f",
   "metadata": {},
   "outputs": [
    {
     "name": "stdout",
     "output_type": "stream",
     "text": [
      "   review_id    appid                                        review_text  \\\n",
      "1          2  1491170      have fun playing this with the broken english   \n",
      "3          4  1491180  Not very different from the first game in the ...   \n",
      "4          5  1491180                           Better than the original   \n",
      "5          6  1491180  As its predeseccor, it is a nice simplistic ad...   \n",
      "6          7  1491190                                       best 5 bucks   \n",
      "\n",
      "   voted_up  timestamp_created  author_playtime_forever  \\\n",
      "1         1         1635895805                      554   \n",
      "3         1         1612534130                     1411   \n",
      "4         1         1649783162                      542   \n",
      "5         1         1621182874                      830   \n",
      "6         1         1614101347                      609   \n",
      "\n",
      "   author_playtime_last_two_weeks  author_num_reviews  \\\n",
      "1                               0                   5   \n",
      "3                               0                 106   \n",
      "4                               0                 204   \n",
      "5                               0                  42   \n",
      "6                               0                   6   \n",
      "\n",
      "                                        cleaned_text  \n",
      "1      have fun playing this with the broken english  \n",
      "3  not very different from the first game in the ...  \n",
      "4                           better than the original  \n",
      "5  as its predeseccor it is a nice simplistic adv...  \n",
      "6                                       best 5 bucks  \n"
     ]
    }
   ],
   "source": [
    "# Remove DLCs, Playtests, and Demos from games_df\n",
    "filtered_games_df = games_df[~games_df['name'].str.contains(\"DLC|Playtest|Demo\", case=False, na=False)]\n",
    "\n",
    "# Function to clean and normalize text\n",
    "def clean_text(text):\n",
    "    text = text.lower()\n",
    "    text = re.sub(r'\\s+', ' ', text)  # Replace multiple spaces with a single space\n",
    "    text = re.sub(r'[^\\w\\s]', '', text)  # Remove punctuation\n",
    "    return text\n",
    "\n",
    "# Clean the review text\n",
    "reviews_df['cleaned_text'] = reviews_df['review_text'].apply(clean_text)\n",
    "\n",
    "# Function to check if text contains only English alphanumeric characters\n",
    "def is_english_alphanumeric(text):\n",
    "    return bool(re.match(r'^[a-z0-9\\s]*$', text))\n",
    "\n",
    "# Filter out rows with non-English or non-alphanumeric characters\n",
    "reviews_df = reviews_df[reviews_df['cleaned_text'].apply(is_english_alphanumeric)]\n",
    "\n",
    "# Display the cleaned data\n",
    "print(reviews_df.head())"
   ]
  },
  {
   "cell_type": "markdown",
   "id": "1ce6a112-6bae-4e04-be5b-c3798e795c8a",
   "metadata": {},
   "source": [
    "# Perform LDA for topic modeling"
   ]
  },
  {
   "cell_type": "code",
   "execution_count": 8,
   "id": "7b45f8b5-d056-4334-9603-ae60cba8f610",
   "metadata": {},
   "outputs": [],
   "source": [
    "from sklearn.feature_extraction.text import CountVectorizer\n",
    "from sklearn.decomposition import LatentDirichletAllocation\n",
    "\n",
    "# Vectorize the cleaned text data\n",
    "vectorizer = CountVectorizer(max_df=0.95, min_df=2, stop_words='english')\n",
    "doc_term_matrix = vectorizer.fit_transform(reviews_df['cleaned_text'])\n",
    "\n",
    "# Perform LDA for topic modeling\n",
    "lda = LatentDirichletAllocation(n_components=10, random_state=42)\n",
    "lda.fit(doc_term_matrix)\n",
    "\n",
    "# Get the topic distributions for each review\n",
    "topic_distributions = lda.transform(doc_term_matrix)\n",
    "\n",
    "# Add the topic distributions to the DataFrame\n",
    "reviews_df['topic_distribution'] = list(topic_distributions)\n"
   ]
  },
  {
   "cell_type": "markdown",
   "id": "77b75baa-9dd7-44ce-a504-1e48cd8f5e14",
   "metadata": {},
   "source": [
    "# Generate topic distributions"
   ]
  },
  {
   "cell_type": "code",
   "execution_count": 9,
   "id": "864a5c22-d04b-4e9d-bfd4-06444e28963e",
   "metadata": {},
   "outputs": [
    {
     "name": "stdout",
     "output_type": "stream",
     "text": [
      "Shape of user_feature_matrix: (489, 10)\n",
      "Shape of item_feature_matrix: (892, 10)\n",
      "Shape of item_feature_matrix_transposed: (10, 892)\n",
      "Shape of user_item_preference_matrix: (489, 892)\n"
     ]
    }
   ],
   "source": [
    "# Ensure topic distributions are numpy arrays and have consistent lengths\n",
    "def pad_or_trim_distribution(distribution, length):\n",
    "    if len(distribution) > length:\n",
    "        return distribution[:length]\n",
    "    elif len(distribution) < length:\n",
    "        return np.pad(distribution, (0, length - len(distribution)), 'constant')\n",
    "    return distribution\n",
    "\n",
    "# Assume 10 topics for example\n",
    "num_topics = 10\n",
    "\n",
    "# Apply padding or trimming to topic distributions\n",
    "reviews_df['topic_distribution'] = reviews_df['topic_distribution'].apply(lambda x: pad_or_trim_distribution(np.array(x), num_topics))\n",
    "\n",
    "# Create user and item feature matrices\n",
    "user_feature_matrix = reviews_df.groupby('author_num_reviews')['topic_distribution'].apply(lambda x: np.mean(list(x), axis=0)).values.tolist()\n",
    "item_feature_matrix = reviews_df.groupby('appid')['topic_distribution'].apply(lambda x: np.mean(list(x), axis=0)).values.tolist()\n",
    "\n",
    "# Convert lists to numpy arrays\n",
    "user_feature_matrix = np.array(user_feature_matrix)\n",
    "item_feature_matrix = np.array(item_feature_matrix)\n",
    "\n",
    "# Transpose the item feature matrix\n",
    "item_feature_matrix_transposed = item_feature_matrix.T\n",
    "\n",
    "# Check the shapes after ensuring consistency\n",
    "print(\"Shape of user_feature_matrix:\", user_feature_matrix.shape)\n",
    "print(\"Shape of item_feature_matrix:\", item_feature_matrix.shape)\n",
    "print(\"Shape of item_feature_matrix_transposed:\", item_feature_matrix_transposed.shape)\n",
    "\n",
    "# Perform the dot product\n",
    "user_item_preference_matrix = np.dot(user_feature_matrix, item_feature_matrix_transposed)\n",
    "print(\"Shape of user_item_preference_matrix:\", user_item_preference_matrix.shape)"
   ]
  },
  {
   "cell_type": "code",
   "execution_count": 10,
   "id": "f4d3bbff-050a-4d7d-9708-918fc82fa83e",
   "metadata": {},
   "outputs": [
    {
     "name": "stdout",
     "output_type": "stream",
     "text": [
      "Top 5 recommendations for user 0:\n",
      "1463500\n",
      "1480970\n",
      "1466400\n",
      "1463130\n",
      "1470940\n"
     ]
    }
   ],
   "source": [
    "# Function to get top N recommendations for a given user index\n",
    "def get_recommendations(user_index, user_item_matrix, item_ids, top_n=5):\n",
    "    user_preferences = user_item_matrix[user_index]\n",
    "    top_indices = user_preferences.argsort()[-top_n:][::-1]\n",
    "    return [item_ids[i] for i in top_indices]\n",
    "\n",
    "# Get the item IDs from the item_feature_matrix\n",
    "item_ids = reviews_df['appid'].unique()\n",
    "\n",
    "# Example: Get top 5 recommendations for user with index 0\n",
    "user_index = 0\n",
    "top_n = 5\n",
    "recommended_items = get_recommendations(user_index, user_item_preference_matrix, item_ids, top_n)\n",
    "\n",
    "print(f\"Top {top_n} recommendations for user {user_index}:\")\n",
    "for item in recommended_items:\n",
    "    print(item)"
   ]
  },
  {
   "cell_type": "code",
   "execution_count": 11,
   "id": "190e4bf9-fe3f-4f23-903f-9fe4be5bc1e9",
   "metadata": {},
   "outputs": [
    {
     "name": "stdout",
     "output_type": "stream",
     "text": [
      "Top 5 recommended games for user 0:\n",
      "        appid                                           name  \\\n",
      "14    1463130                                      Robobo TM   \n",
      "19    1463500                             Conrun Virtual Gym   \n",
      "201   1466400              Edge Of Dead: Under A Uranium Sky   \n",
      "477   1470940  STAR FLEET II - Krellan Commander Version 2.0   \n",
      "1168  1480970                               Brandins Buttons   \n",
      "\n",
      "                                            description  price  release_date  \\\n",
      "14    Starts on slow gear and explore. Enter timed s...   ₹ 85  23 Jun, 2021   \n",
      "19    Compete against AI in a virtual gym. Earn XP, ...  ₹ 199  12 Dec, 2020   \n",
      "201   A bullet hell that let's you pickup and throw ...  ₹ 530  16 Nov, 2023   \n",
      "477   Welcome to the future of space warfare! Star F...  ₹ 349  13 Nov, 2023   \n",
      "1168  Challenge yourself with over 110 increasingly ...  ₹ 199  10 Dec, 2020   \n",
      "\n",
      "                             developer                         publisher  \\\n",
      "14                         Diaz Pepper                       Diaz Pepper   \n",
      "19                        Selfparadise                      Selfparadise   \n",
      "201           Inferno Muse Interactive          Inferno Muse Interactive   \n",
      "477      Trevor Sorensen, Mark Baldwin                   Trevor Sorensen   \n",
      "1168  Massive Corporation Game Studios  Massive Corporation Game Studios   \n",
      "\n",
      "                                         tags  \n",
      "14                      Action, Casual, Indie  \n",
      "19    Indie, Simulation, Sports, Early Access  \n",
      "201                  Action, Adventure, Indie  \n",
      "477                      Simulation, Strategy  \n",
      "1168                                   Casual  \n"
     ]
    }
   ],
   "source": [
    "# Function to get details of recommended items\n",
    "def get_item_details(item_ids, games_df):\n",
    "    available_columns = ['appid', 'name', 'description', 'price', 'release_date', 'developer', 'publisher', 'tags']\n",
    "    details = games_df[games_df['appid'].isin(item_ids)][available_columns]\n",
    "    return details\n",
    "\n",
    "# Get details of the recommended items\n",
    "recommended_items_details = get_item_details(recommended_items, games_df)\n",
    "\n",
    "# Display the recommended items with details\n",
    "print(\"Top 5 recommended games for user 0:\")\n",
    "print(recommended_items_details)\n"
   ]
  },
  {
   "cell_type": "code",
   "execution_count": 12,
   "id": "5a6f3335-106d-46dd-aee0-060e210ff71c",
   "metadata": {},
   "outputs": [],
   "source": [
    "np.save('item_feature_matrix.npy', item_feature_matrix)\n",
    "\n"
   ]
  },
  {
   "cell_type": "code",
   "execution_count": 13,
   "id": "8e4fa395-1a82-4272-a059-62f71a18a973",
   "metadata": {},
   "outputs": [],
   "source": [
    "np.save('item_feature_matrix.npy', user_feature_matrix)"
   ]
  },
  {
   "cell_type": "code",
   "execution_count": null,
   "id": "ed953f69-36cf-4701-869e-0158313aa01d",
   "metadata": {},
   "outputs": [],
   "source": []
  }
 ],
 "metadata": {
  "kernelspec": {
   "display_name": "Python 3 (ipykernel)",
   "language": "python",
   "name": "python3"
  },
  "language_info": {
   "codemirror_mode": {
    "name": "ipython",
    "version": 3
   },
   "file_extension": ".py",
   "mimetype": "text/x-python",
   "name": "python",
   "nbconvert_exporter": "python",
   "pygments_lexer": "ipython3",
   "version": "3.11.4"
  }
 },
 "nbformat": 4,
 "nbformat_minor": 5
}
