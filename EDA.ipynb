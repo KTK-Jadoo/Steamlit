{
 "cells": [
  {
   "cell_type": "markdown",
   "id": "589a9008-e2d3-4db6-a039-a93b8daaf561",
   "metadata": {},
   "source": [
    "# Exploratory Data Analysis for Steamit\n",
    "\n",
    "### Importing Necessary Libraries"
   ]
  },
  {
   "cell_type": "code",
   "execution_count": 3,
   "id": "e91b00d1-44eb-4dd2-8772-6b1f8b2f2681",
   "metadata": {},
   "outputs": [
    {
     "name": "stdout",
     "output_type": "stream",
     "text": [
      "Tables in the database: [('game_details',), ('game_reviews',), ('sqlite_sequence',)]\n"
     ]
    }
   ],
   "source": [
    "import sqlite3\n",
    "import matplotlib.pyplot as plt\n",
    "import seaborn as sns\n",
    "import pandas as pd\n",
    "import numpy as np\n",
    "from transformers import BertTokenizer, BertModel\n",
    "import torch\n",
    "from sklearn.decomposition import PCA\n",
    "\n",
    "\n",
    "\n",
    "\n",
    "# Connect to the database\n",
    "conn = sqlite3.connect('steam_games.db')\n",
    "\n",
    "# Create a cursor object\n",
    "cursor = conn.cursor()\n",
    "\n",
    "# List all tables in the database\n",
    "cursor.execute(\"SELECT name FROM sqlite_master WHERE type='table';\")\n",
    "tables = cursor.fetchall()\n",
    "\n",
    "# Close the connection\n",
    "conn.close()\n",
    "\n",
    "# Print the list of tables\n",
    "print(\"Tables in the database:\", tables)\n"
   ]
  },
  {
   "cell_type": "code",
   "execution_count": 4,
   "id": "a3ff5207-0dcf-4005-9e6b-0392710aa0c3",
   "metadata": {},
   "outputs": [
    {
     "data": {
      "text/html": [
       "<div>\n",
       "<style scoped>\n",
       "    .dataframe tbody tr th:only-of-type {\n",
       "        vertical-align: middle;\n",
       "    }\n",
       "\n",
       "    .dataframe tbody tr th {\n",
       "        vertical-align: top;\n",
       "    }\n",
       "\n",
       "    .dataframe thead th {\n",
       "        text-align: right;\n",
       "    }\n",
       "</style>\n",
       "<table border=\"1\" class=\"dataframe\">\n",
       "  <thead>\n",
       "    <tr style=\"text-align: right;\">\n",
       "      <th></th>\n",
       "      <th>appid</th>\n",
       "      <th>name</th>\n",
       "      <th>description</th>\n",
       "      <th>price</th>\n",
       "      <th>release_date</th>\n",
       "      <th>developer</th>\n",
       "      <th>publisher</th>\n",
       "      <th>tags</th>\n",
       "    </tr>\n",
       "  </thead>\n",
       "  <tbody>\n",
       "    <tr>\n",
       "      <th>0</th>\n",
       "      <td>1462940</td>\n",
       "      <td>Ecto Portal</td>\n",
       "      <td>The next generation of spooky displays, create...</td>\n",
       "      <td>₹ 529</td>\n",
       "      <td>16 Jan, 2021</td>\n",
       "      <td>SpookyAction</td>\n",
       "      <td>SpookyAction</td>\n",
       "      <td>Action, Adventure</td>\n",
       "    </tr>\n",
       "    <tr>\n",
       "      <th>1</th>\n",
       "      <td>1462960</td>\n",
       "      <td>Evade Zero</td>\n",
       "      <td>Evade is a fast and intense local multiplayer ...</td>\n",
       "      <td>₹ 299</td>\n",
       "      <td>18 Dec, 2020</td>\n",
       "      <td>Jonathan Francis</td>\n",
       "      <td>Self Published</td>\n",
       "      <td>Action, Indie, Sports</td>\n",
       "    </tr>\n",
       "    <tr>\n",
       "      <th>2</th>\n",
       "      <td>1462970</td>\n",
       "      <td>Jumpman (C64/MSDOS)</td>\n",
       "      <td>Run, climb and jump from platform to platform ...</td>\n",
       "      <td>₹ 155</td>\n",
       "      <td>19 Nov, 2020</td>\n",
       "      <td>Epyx, Inc.</td>\n",
       "      <td>Pixel Games UK</td>\n",
       "      <td>Action, Adventure, Simulation</td>\n",
       "    </tr>\n",
       "    <tr>\n",
       "      <th>3</th>\n",
       "      <td>1462980</td>\n",
       "      <td>Dinosaurs Live Wallpaper: with Secret Sandboxes</td>\n",
       "      <td></td>\n",
       "      <td>N/A</td>\n",
       "      <td>Coming soon</td>\n",
       "      <td>William at Oxford</td>\n",
       "      <td>William at Oxford</td>\n",
       "      <td>Utilities</td>\n",
       "    </tr>\n",
       "    <tr>\n",
       "      <th>4</th>\n",
       "      <td>1462990</td>\n",
       "      <td>Rushaug: Feline Warfare</td>\n",
       "      <td>A tactical platformer combining stealth and fa...</td>\n",
       "      <td>N/A</td>\n",
       "      <td>To be announced</td>\n",
       "      <td>Tobias Edvardsen</td>\n",
       "      <td>Tobias Edvardsen</td>\n",
       "      <td>Action, Adventure</td>\n",
       "    </tr>\n",
       "  </tbody>\n",
       "</table>\n",
       "</div>"
      ],
      "text/plain": [
       "     appid                                             name  \\\n",
       "0  1462940                                      Ecto Portal   \n",
       "1  1462960                                       Evade Zero   \n",
       "2  1462970                              Jumpman (C64/MSDOS)   \n",
       "3  1462980  Dinosaurs Live Wallpaper: with Secret Sandboxes   \n",
       "4  1462990                          Rushaug: Feline Warfare   \n",
       "\n",
       "                                         description  price     release_date  \\\n",
       "0  The next generation of spooky displays, create...  ₹ 529     16 Jan, 2021   \n",
       "1  Evade is a fast and intense local multiplayer ...  ₹ 299     18 Dec, 2020   \n",
       "2  Run, climb and jump from platform to platform ...  ₹ 155     19 Nov, 2020   \n",
       "3                                                       N/A      Coming soon   \n",
       "4  A tactical platformer combining stealth and fa...    N/A  To be announced   \n",
       "\n",
       "           developer          publisher                           tags  \n",
       "0       SpookyAction       SpookyAction              Action, Adventure  \n",
       "1   Jonathan Francis     Self Published          Action, Indie, Sports  \n",
       "2         Epyx, Inc.     Pixel Games UK  Action, Adventure, Simulation  \n",
       "3  William at Oxford  William at Oxford                      Utilities  \n",
       "4   Tobias Edvardsen   Tobias Edvardsen              Action, Adventure  "
      ]
     },
     "execution_count": 4,
     "metadata": {},
     "output_type": "execute_result"
    }
   ],
   "source": [
    "# Correct table name based on your database structure\n",
    "game_table = 'game_details'  # Replace with the actual table name if different\n",
    "review_table = 'game_reviews'  # Replace with the actual table name if different\n",
    "\n",
    "# Reconnect to the database\n",
    "conn = sqlite3.connect('steam_games.db')\n",
    "\n",
    "# Load the data into pandas DataFrames\n",
    "games_df = pd.read_sql_query(f\"SELECT * FROM {game_table}\", conn)\n",
    "reviews_df = pd.read_sql_query(f\"SELECT * FROM {review_table}\", conn)\n",
    "\n",
    "# Close the connection\n",
    "conn.close()\n",
    "\n",
    "# Display the first few rows of the dataframes\n",
    "games_df.head()\n",
    "\n"
   ]
  },
  {
   "cell_type": "code",
   "execution_count": 5,
   "id": "77910c27-bc0d-42ad-affc-cbce79d52d9f",
   "metadata": {},
   "outputs": [
    {
     "name": "stdout",
     "output_type": "stream",
     "text": [
      "     appid                                             name  \\\n",
      "0  1462940                                      Ecto Portal   \n",
      "1  1462960                                       Evade Zero   \n",
      "2  1462970                              Jumpman (C64/MSDOS)   \n",
      "3  1462980  Dinosaurs Live Wallpaper: with Secret Sandboxes   \n",
      "4  1462990                          Rushaug: Feline Warfare   \n",
      "\n",
      "                                         description  price     release_date  \\\n",
      "0  The next generation of spooky displays, create...  ₹ 529     16 Jan, 2021   \n",
      "1  Evade is a fast and intense local multiplayer ...  ₹ 299     18 Dec, 2020   \n",
      "2  Run, climb and jump from platform to platform ...  ₹ 155     19 Nov, 2020   \n",
      "3                                                       N/A      Coming soon   \n",
      "4  A tactical platformer combining stealth and fa...    N/A  To be announced   \n",
      "\n",
      "           developer          publisher                           tags  \n",
      "0       SpookyAction       SpookyAction              Action, Adventure  \n",
      "1   Jonathan Francis     Self Published          Action, Indie, Sports  \n",
      "2         Epyx, Inc.     Pixel Games UK  Action, Adventure, Simulation  \n",
      "3  William at Oxford  William at Oxford                      Utilities  \n",
      "4   Tobias Edvardsen   Tobias Edvardsen              Action, Adventure   (1531, 8)\n"
     ]
    }
   ],
   "source": [
    "# Remove DLCs, Playtests, and Demos from games_df\n",
    "filtered_games_df = games_df[~games_df['name'].str.contains('soundtrack|OST|demo|DLC|playtest', case=False, na=False)]\n",
    "filtered_games_df.to_csv('filtered_games_df.csv', index=False)\n",
    "print(filtered_games_df.head(), filtered_games_df.shape)"
   ]
  },
  {
   "cell_type": "code",
   "execution_count": 6,
   "id": "0cf57a38-1d72-46df-875f-9f13b961cb10",
   "metadata": {},
   "outputs": [
    {
     "name": "stdout",
     "output_type": "stream",
     "text": [
      "Filtered reviews_df shape: (7710, 8)\n"
     ]
    }
   ],
   "source": [
    "# Filter reviews based on the filtered games_df appid\n",
    "filtered_reviews_df = reviews_df[reviews_df['appid'].isin(filtered_games_df['appid'])]\n",
    "print(\"Filtered reviews_df shape:\", filtered_reviews_df.shape)"
   ]
  },
  {
   "cell_type": "code",
   "execution_count": 7,
   "id": "6ac312a1-520b-4f1b-9d90-c629faa3b728",
   "metadata": {},
   "outputs": [
    {
     "name": "stderr",
     "output_type": "stream",
     "text": [
      "C:\\Users\\Jadoo\\Documents\\CSProjects\\steam_recomendation_system\\Steamlit\\venv\\Lib\\site-packages\\transformers\\tokenization_utils_base.py:1601: FutureWarning: `clean_up_tokenization_spaces` was not set. It will be set to `True` by default. This behavior will be depracted in transformers v4.45, and will be then set to `False` by default. For more details check this issue: https://github.com/huggingface/transformers/issues/31884\n",
      "  warnings.warn(\n",
      "A parameter name that contains `beta` will be renamed internally to `bias`. Please use a different name to suppress this warning.\n",
      "A parameter name that contains `gamma` will be renamed internally to `weight`. Please use a different name to suppress this warning.\n",
      "A parameter name that contains `beta` will be renamed internally to `bias`. Please use a different name to suppress this warning.\n",
      "A parameter name that contains `gamma` will be renamed internally to `weight`. Please use a different name to suppress this warning.\n",
      "A parameter name that contains `beta` will be renamed internally to `bias`. Please use a different name to suppress this warning.\n",
      "A parameter name that contains `gamma` will be renamed internally to `weight`. Please use a different name to suppress this warning.\n",
      "A parameter name that contains `beta` will be renamed internally to `bias`. Please use a different name to suppress this warning.\n",
      "A parameter name that contains `gamma` will be renamed internally to `weight`. Please use a different name to suppress this warning.\n",
      "A parameter name that contains `beta` will be renamed internally to `bias`. Please use a different name to suppress this warning.\n",
      "A parameter name that contains `gamma` will be renamed internally to `weight`. Please use a different name to suppress this warning.\n",
      "A parameter name that contains `beta` will be renamed internally to `bias`. Please use a different name to suppress this warning.\n",
      "A parameter name that contains `gamma` will be renamed internally to `weight`. Please use a different name to suppress this warning.\n",
      "A parameter name that contains `beta` will be renamed internally to `bias`. Please use a different name to suppress this warning.\n",
      "A parameter name that contains `gamma` will be renamed internally to `weight`. Please use a different name to suppress this warning.\n",
      "A parameter name that contains `beta` will be renamed internally to `bias`. Please use a different name to suppress this warning.\n",
      "A parameter name that contains `gamma` will be renamed internally to `weight`. Please use a different name to suppress this warning.\n",
      "A parameter name that contains `beta` will be renamed internally to `bias`. Please use a different name to suppress this warning.\n",
      "A parameter name that contains `gamma` will be renamed internally to `weight`. Please use a different name to suppress this warning.\n",
      "A parameter name that contains `beta` will be renamed internally to `bias`. Please use a different name to suppress this warning.\n",
      "A parameter name that contains `gamma` will be renamed internally to `weight`. Please use a different name to suppress this warning.\n",
      "A parameter name that contains `beta` will be renamed internally to `bias`. Please use a different name to suppress this warning.\n",
      "A parameter name that contains `gamma` will be renamed internally to `weight`. Please use a different name to suppress this warning.\n",
      "A parameter name that contains `beta` will be renamed internally to `bias`. Please use a different name to suppress this warning.\n",
      "A parameter name that contains `gamma` will be renamed internally to `weight`. Please use a different name to suppress this warning.\n",
      "A parameter name that contains `beta` will be renamed internally to `bias`. Please use a different name to suppress this warning.\n",
      "A parameter name that contains `gamma` will be renamed internally to `weight`. Please use a different name to suppress this warning.\n",
      "A parameter name that contains `beta` will be renamed internally to `bias`. Please use a different name to suppress this warning.\n",
      "A parameter name that contains `gamma` will be renamed internally to `weight`. Please use a different name to suppress this warning.\n",
      "A parameter name that contains `beta` will be renamed internally to `bias`. Please use a different name to suppress this warning.\n",
      "A parameter name that contains `gamma` will be renamed internally to `weight`. Please use a different name to suppress this warning.\n",
      "A parameter name that contains `beta` will be renamed internally to `bias`. Please use a different name to suppress this warning.\n",
      "A parameter name that contains `gamma` will be renamed internally to `weight`. Please use a different name to suppress this warning.\n",
      "A parameter name that contains `beta` will be renamed internally to `bias`. Please use a different name to suppress this warning.\n",
      "A parameter name that contains `gamma` will be renamed internally to `weight`. Please use a different name to suppress this warning.\n",
      "A parameter name that contains `beta` will be renamed internally to `bias`. Please use a different name to suppress this warning.\n",
      "A parameter name that contains `gamma` will be renamed internally to `weight`. Please use a different name to suppress this warning.\n",
      "A parameter name that contains `beta` will be renamed internally to `bias`. Please use a different name to suppress this warning.\n",
      "A parameter name that contains `gamma` will be renamed internally to `weight`. Please use a different name to suppress this warning.\n",
      "A parameter name that contains `beta` will be renamed internally to `bias`. Please use a different name to suppress this warning.\n",
      "A parameter name that contains `gamma` will be renamed internally to `weight`. Please use a different name to suppress this warning.\n",
      "A parameter name that contains `beta` will be renamed internally to `bias`. Please use a different name to suppress this warning.\n",
      "A parameter name that contains `gamma` will be renamed internally to `weight`. Please use a different name to suppress this warning.\n",
      "A parameter name that contains `beta` will be renamed internally to `bias`. Please use a different name to suppress this warning.\n",
      "A parameter name that contains `gamma` will be renamed internally to `weight`. Please use a different name to suppress this warning.\n",
      "A parameter name that contains `beta` will be renamed internally to `bias`. Please use a different name to suppress this warning.\n",
      "A parameter name that contains `gamma` will be renamed internally to `weight`. Please use a different name to suppress this warning.\n",
      "A parameter name that contains `beta` will be renamed internally to `bias`. Please use a different name to suppress this warning.\n",
      "A parameter name that contains `gamma` will be renamed internally to `weight`. Please use a different name to suppress this warning.\n",
      "A parameter name that contains `beta` will be renamed internally to `bias`. Please use a different name to suppress this warning.\n",
      "A parameter name that contains `gamma` will be renamed internally to `weight`. Please use a different name to suppress this warning.\n",
      "A parameter name that contains `beta` will be renamed internally to `bias`. Please use a different name to suppress this warning.\n",
      "A parameter name that contains `gamma` will be renamed internally to `weight`. Please use a different name to suppress this warning.\n"
     ]
    },
    {
     "name": "stdout",
     "output_type": "stream",
     "text": [
      "Item feature matrix has been successfully saved as 'bert_item_feature_matrix.npy\n"
     ]
    }
   ],
   "source": [
    "# Load pre-trained BERT model and tokenizer\n",
    "bert_tokenizer = BertTokenizer.from_pretrained('bert-base-uncased')\n",
    "bert_model = BertModel.from_pretrained('bert-base-uncased')\n",
    "\n",
    "# Function to get text embedding\n",
    "def get_embedding(text):\n",
    "    inputs = bert_tokenizer(text, return_tensors='pt', truncation=True, padding=True, max_length=512)\n",
    "    outputs = bert_model(**inputs)\n",
    "    return outputs.last_hidden_state.mean(dim=1).cpu().detach().numpy()\n",
    "\n",
    "# Generate embeddings for all game descriptions\n",
    "embeddings = []\n",
    "for description in filtered_games_df['description']:\n",
    "    embeddings.append(get_embedding(description).flatten())\n",
    "\n",
    "# Convert to numpy array and save\n",
    "bert_item_feature_matrix = np.array(embeddings)\n",
    "np.save('bert_item_feature_matrix.npy', bert_item_feature_matrix)\n",
    "print(\"Item feature matrix has been successfully saved as 'bert_item_feature_matrix.npy\")"
   ]
  },
  {
   "cell_type": "markdown",
   "id": "7b37a1b9-2e4b-4f6f-ba31-e85a3aae6ec5",
   "metadata": {},
   "source": [
    "# Perform PCA on BERT Embeddings"
   ]
  },
  {
   "cell_type": "code",
   "execution_count": 8,
   "id": "355f3f29-37e8-411d-8423-95f986e8d637",
   "metadata": {},
   "outputs": [
    {
     "data": {
      "text/plain": [
       "(1531, 768)"
      ]
     },
     "execution_count": 8,
     "metadata": {},
     "output_type": "execute_result"
    }
   ],
   "source": [
    "bert_item_feature_matrix.shape"
   ]
  },
  {
   "cell_type": "code",
   "execution_count": 9,
   "id": "d916a75f-ddf4-4bcc-a0ce-914a2dbca5ac",
   "metadata": {},
   "outputs": [],
   "source": [
    "\n",
    "# Assuming item_feature_matrix is already loaded\n",
    "pca_3d = PCA(n_components=768)\n",
    "reduced_item_feature_matrix = pca_3d.fit_transform(bert_item_feature_matrix)\n"
   ]
  },
  {
   "cell_type": "code",
   "execution_count": 10,
   "id": "9eae3d99-bfe0-47fe-92f3-089386f0b13c",
   "metadata": {},
   "outputs": [
    {
     "data": {
      "text/plain": [
       "(1531, 768)"
      ]
     },
     "execution_count": 10,
     "metadata": {},
     "output_type": "execute_result"
    }
   ],
   "source": [
    "reduced_item_feature_matrix.shape"
   ]
  },
  {
   "cell_type": "code",
   "execution_count": 11,
   "id": "97f48669-76bf-47c7-b3fc-63bc6c384814",
   "metadata": {},
   "outputs": [],
   "source": [
    "np.save('reduced_item_feature_matrix.npy', reduced_item_feature_matrix)"
   ]
  },
  {
   "cell_type": "code",
   "execution_count": null,
   "id": "150c3fb1-b698-4e53-bea2-36e291a20ab6",
   "metadata": {},
   "outputs": [],
   "source": []
  }
 ],
 "metadata": {
  "kernelspec": {
   "display_name": "Python 3 (ipykernel)",
   "language": "python",
   "name": "python3"
  },
  "language_info": {
   "codemirror_mode": {
    "name": "ipython",
    "version": 3
   },
   "file_extension": ".py",
   "mimetype": "text/x-python",
   "name": "python",
   "nbconvert_exporter": "python",
   "pygments_lexer": "ipython3",
   "version": "3.11.4"
  }
 },
 "nbformat": 4,
 "nbformat_minor": 5
}
