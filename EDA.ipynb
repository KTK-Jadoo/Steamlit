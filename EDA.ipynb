{
 "cells": [
  {
   "cell_type": "code",
   "execution_count": 1,
   "id": "e91b00d1-44eb-4dd2-8772-6b1f8b2f2681",
   "metadata": {},
   "outputs": [
    {
     "ename": "ModuleNotFoundError",
     "evalue": "No module named 'nltk'",
     "output_type": "error",
     "traceback": [
      "\u001b[1;31m---------------------------------------------------------------------------\u001b[0m",
      "\u001b[1;31mModuleNotFoundError\u001b[0m                       Traceback (most recent call last)",
      "Cell \u001b[1;32mIn[1], line 8\u001b[0m\n\u001b[0;32m      6\u001b[0m \u001b[38;5;28;01mimport\u001b[39;00m \u001b[38;5;21;01mre\u001b[39;00m\n\u001b[0;32m      7\u001b[0m \u001b[38;5;28;01mimport\u001b[39;00m \u001b[38;5;21;01mstring\u001b[39;00m\n\u001b[1;32m----> 8\u001b[0m \u001b[38;5;28;01mimport\u001b[39;00m \u001b[38;5;21;01mnltk\u001b[39;00m\n\u001b[0;32m      9\u001b[0m \u001b[38;5;28;01mfrom\u001b[39;00m \u001b[38;5;21;01mnltk\u001b[39;00m\u001b[38;5;21;01m.\u001b[39;00m\u001b[38;5;21;01mcorpus\u001b[39;00m \u001b[38;5;28;01mimport\u001b[39;00m stopwords, opinion_lexicon\n\u001b[0;32m     10\u001b[0m \u001b[38;5;28;01mfrom\u001b[39;00m \u001b[38;5;21;01mnltk\u001b[39;00m\u001b[38;5;21;01m.\u001b[39;00m\u001b[38;5;21;01mtokenize\u001b[39;00m \u001b[38;5;28;01mimport\u001b[39;00m word_tokenize\n",
      "\u001b[1;31mModuleNotFoundError\u001b[0m: No module named 'nltk'"
     ]
    }
   ],
   "source": [
    "import pandas as pd\n",
    "import numpy as np\n",
    "import ast\n",
    "import os\n",
    "from datetime import datetime\n",
    "import re\n",
    "import string\n",
    "import nltk\n",
    "from nltk.corpus import stopwords, opinion_lexicon\n",
    "from nltk.tokenize import word_tokenize\n",
    "from nltk.stem import WordNetLemmatizer\n",
    "from sklearn.feature_extraction.text import TfidfVectorizer\n",
    "import matplotlib.pyplot as plt\n",
    "import seaborn as sns\n",
    "\n",
    "# Download necessary NLTK data\n",
    "nltk.download('punkt')\n",
    "nltk.download('stopwords')\n",
    "nltk.download('wordnet')\n",
    "nltk.download('opinion_lexicon')\n",
    "# Load the partial data\n",
    "df = pd.read_csv('./data/raw/steam_games.csv')"
   ]
  },
  {
   "cell_type": "code",
   "execution_count": 21,
   "id": "5cd59920-4145-4747-83fa-f6b532308717",
   "metadata": {},
   "outputs": [
    {
     "name": "stdout",
     "output_type": "stream",
     "text": [
      "<class 'pandas.core.frame.DataFrame'>\n",
      "RangeIndex: 20497 entries, 0 to 20496\n",
      "Data columns (total 43 columns):\n",
      " #   Column                   Non-Null Count  Dtype \n",
      "---  ------                   --------------  ----- \n",
      " 0   type                     20497 non-null  object\n",
      " 1   name                     20496 non-null  object\n",
      " 2   steam_appid              20497 non-null  int64 \n",
      " 3   required_age             20497 non-null  object\n",
      " 4   is_free                  20497 non-null  bool  \n",
      " 5   detailed_description     18023 non-null  object\n",
      " 6   about_the_game           18018 non-null  object\n",
      " 7   short_description        18057 non-null  object\n",
      " 8   fullgame                 7594 non-null   object\n",
      " 9   supported_languages      18215 non-null  object\n",
      " 10  header_image             20497 non-null  object\n",
      " 11  capsule_image            20497 non-null  object\n",
      " 12  capsule_imagev5          20497 non-null  object\n",
      " 13  website                  6364 non-null   object\n",
      " 14  pc_requirements          20497 non-null  object\n",
      " 15  mac_requirements         20497 non-null  object\n",
      " 16  linux_requirements       20497 non-null  object\n",
      " 17  developers               19515 non-null  object\n",
      " 18  publishers               20497 non-null  object\n",
      " 19  package_groups           20497 non-null  object\n",
      " 20  platforms                20497 non-null  object\n",
      " 21  categories               18910 non-null  object\n",
      " 22  genres                   15715 non-null  object\n",
      " 23  screenshots              18000 non-null  object\n",
      " 24  release_date             20497 non-null  object\n",
      " 25  support_info             20497 non-null  object\n",
      " 26  background               18164 non-null  object\n",
      " 27  background_raw           18164 non-null  object\n",
      " 28  content_descriptors      20497 non-null  object\n",
      " 29  ratings                  19478 non-null  object\n",
      " 30  movies                   11146 non-null  object\n",
      " 31  controller_support       4334 non-null   object\n",
      " 32  legal_notice             4629 non-null   object\n",
      " 33  reviews                  254 non-null    object\n",
      " 34  dlc                      449 non-null    object\n",
      " 35  price_overview           9044 non-null   object\n",
      " 36  packages                 9077 non-null   object\n",
      " 37  demos                    1702 non-null   object\n",
      " 38  achievements             3032 non-null   object\n",
      " 39  recommendations          366 non-null    object\n",
      " 40  drm_notice               61 non-null     object\n",
      " 41  ext_user_account_notice  157 non-null    object\n",
      " 42  metacritic               31 non-null     object\n",
      "dtypes: bool(1), int64(1), object(41)\n",
      "memory usage: 6.6+ MB\n"
     ]
    }
   ],
   "source": [
    "# Get a concise summary of the DataFrame\n",
    "df.info()"
   ]
  },
  {
   "cell_type": "code",
   "execution_count": 22,
   "id": "32dfdfaf-7498-43a6-8323-a75a44abc967",
   "metadata": {},
   "outputs": [
    {
     "name": "stdout",
     "output_type": "stream",
     "text": [
      "Index(['type', 'name', 'steam_appid', 'required_age', 'is_free',\n",
      "       'detailed_description', 'about_the_game', 'short_description',\n",
      "       'fullgame', 'supported_languages', 'header_image', 'capsule_image',\n",
      "       'capsule_imagev5', 'website', 'pc_requirements', 'mac_requirements',\n",
      "       'linux_requirements', 'developers', 'publishers', 'package_groups',\n",
      "       'platforms', 'categories', 'genres', 'screenshots', 'release_date',\n",
      "       'support_info', 'background', 'background_raw', 'content_descriptors',\n",
      "       'ratings', 'movies', 'controller_support', 'legal_notice', 'reviews',\n",
      "       'dlc', 'price_overview', 'packages', 'demos', 'achievements',\n",
      "       'recommendations', 'drm_notice', 'ext_user_account_notice',\n",
      "       'metacritic'],\n",
      "      dtype='object')\n",
      "Dropped columns:\n",
      "['type', 'steam_appid', 'required_age', 'is_free', 'about_the_game', 'supported_languages', 'header_image', 'capsule_image', 'capsule_imagev5', 'website', 'pc_requirements', 'mac_requirements', 'linux_requirements', 'developers', 'package_groups', 'platforms', 'categories', 'screenshots', 'movies', 'support_info', 'background', 'background_raw', 'legal_notice', 'fullgame', 'demos', 'controller_support', 'reviews', 'dlc', 'achievements', 'price_overview', 'packages', 'ext_user_account_notice', 'metacritic', 'recommendations', 'drm_notice']\n"
     ]
    }
   ],
   "source": [
    "# Define regex patterns for DLCs and Playtests\n",
    "patterns = ['DLC', 'Playtest', 'Early Access', 'Sex']\n",
    "\n",
    "# Use regex to filter out rows where 'name' or 'type' contains any of the patterns\n",
    "df_cleaned = df[~df['name'].str.contains('|'.join(patterns), case=False, na=False)]\n",
    "df_cleaned = df_cleaned[~df_cleaned['type'].str.contains('|'.join(patterns), case=False, na=False)]\n",
    "\n",
    "# Check for missing values\n",
    "missing_values = df_cleaned.isnull().sum()\n",
    "print(df_cleaned.columns)\n",
    "\n",
    "# Drop columns with more than 2000 missing values\n",
    "columns_to_drop = ['type', 'steam_appid', 'required_age', 'is_free', 'about_the_game','supported_languages', 'header_image', 'capsule_image', \n",
    "                   'capsule_imagev5', 'website', 'pc_requirements', 'mac_requirements','linux_requirements', 'developers', 'package_groups', \n",
    "                   'platforms', 'categories', 'screenshots', 'movies', 'support_info', 'background', 'background_raw', 'legal_notice', 'fullgame', 'demos', \n",
    "                   'controller_support', 'reviews', 'dlc', 'achievements','price_overview', 'packages', 'ext_user_account_notice', 'metacritic', \n",
    "                   'recommendations', 'drm_notice']\n",
    "df_cleaned = df_cleaned.drop(columns=columns_to_drop)\n",
    "\n",
    "# Display the columns that were dropped\n",
    "print(\"Dropped columns:\")\n",
    "print(columns_to_drop)\n",
    "\n",
    "# Fill missing values using .loc to avoid the SettingWithCopyWarning\n",
    "df_cleaned.loc[:, 'detailed_description'] = df_cleaned['detailed_description'].fillna('')\n",
    "df_cleaned.loc[:, 'short_description'] = df_cleaned['short_description'].fillna('')\n",
    "\n",
    "# Select relevant features, including 'metacritic'\n",
    "columns_to_keep = ['name', 'detailed_description', 'short_description', 'content_descriptors', 'genres', 'release_date', 'ratings', 'publishers']\n",
    "df_selected = df_cleaned[columns_to_keep]\n"
   ]
  },
  {
   "cell_type": "code",
   "execution_count": 11,
   "id": "6605d690-4c27-4cf4-bd3e-20e8a5244110",
   "metadata": {},
   "outputs": [
    {
     "data": {
      "text/plain": [
       "\"[{'id': '1', 'description': 'Action'}, {'id': '28', 'description': 'Simulation'}, {'id': '2', 'description': 'Strategy'}]\""
      ]
     },
     "execution_count": 11,
     "metadata": {},
     "output_type": "execute_result"
    }
   ],
   "source": [
    "df_selected[\"genres\"][1]"
   ]
  }
 ],
 "metadata": {
  "kernelspec": {
   "display_name": "Python 3 (ipykernel)",
   "language": "python",
   "name": "python3"
  },
  "language_info": {
   "codemirror_mode": {
    "name": "ipython",
    "version": 3
   },
   "file_extension": ".py",
   "mimetype": "text/x-python",
   "name": "python",
   "nbconvert_exporter": "python",
   "pygments_lexer": "ipython3",
   "version": "3.11.4"
  }
 },
 "nbformat": 4,
 "nbformat_minor": 5
}
