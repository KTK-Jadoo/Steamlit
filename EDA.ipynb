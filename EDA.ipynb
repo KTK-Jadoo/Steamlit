{
 "cells": [
  {
   "cell_type": "markdown",
   "id": "589a9008-e2d3-4db6-a039-a93b8daaf561",
   "metadata": {},
   "source": [
    "# Exploratory Data Analysis for Steamit\n",
    "\n",
    "### Importing Necessary Libraries"
   ]
  },
  {
   "cell_type": "code",
   "execution_count": 134,
   "id": "e91b00d1-44eb-4dd2-8772-6b1f8b2f2681",
   "metadata": {},
   "outputs": [],
   "source": [
    "import pandas as pd\n",
    "import numpy as np\n",
    "import ast\n",
    "import math\n",
    "import os\n",
    "from datetime import datetime\n",
    "import re\n",
    "import string\n",
    "import nltk\n",
    "from nltk.corpus import stopwords, opinion_lexicon\n",
    "from nltk.tokenize import word_tokenize\n",
    "from nltk.stem import WordNetLemmatizer\n",
    "from sklearn.feature_extraction.text import TfidfVectorizer\n",
    "import matplotlib.pyplot as plt\n",
    "import seaborn as sns\n",
    "\n",
    "# Load the partial data\n",
    "df = pd.read_csv('./data/raw/steam_games_cleaned.csv', header=None)\n",
    "\n"
   ]
  },
  {
   "cell_type": "markdown",
   "id": "7ed60499-3c9e-47c3-8776-cd2118385d57",
   "metadata": {},
   "source": [
    "### Basic Operations"
   ]
  },
  {
   "cell_type": "code",
   "execution_count": 117,
   "id": "5813d391-2d5c-43ef-96f1-03e619c7f1f2",
   "metadata": {},
   "outputs": [
    {
     "data": {
      "text/plain": [
       "(4657, 92)"
      ]
     },
     "execution_count": 117,
     "metadata": {},
     "output_type": "execute_result"
    }
   ],
   "source": [
    "df.shape"
   ]
  },
  {
   "cell_type": "code",
   "execution_count": 118,
   "id": "78cd906c-d397-457d-ae31-168837623142",
   "metadata": {},
   "outputs": [
    {
     "data": {
      "text/plain": [
       "0\n",
       "game     2913\n",
       "dlc       792\n",
       "demo      746\n",
       "music     205\n",
       "mod         1\n",
       "Name: count, dtype: int64"
      ]
     },
     "execution_count": 118,
     "metadata": {},
     "output_type": "execute_result"
    }
   ],
   "source": [
    "df[0].value_counts()"
   ]
  },
  {
   "cell_type": "markdown",
   "id": "a02ad923-08bb-411d-9680-16e128dc3eb3",
   "metadata": {},
   "source": [
    "#### We are only recommending games, so dropping non-game entries."
   ]
  },
  {
   "cell_type": "code",
   "execution_count": 122,
   "id": "79f62ba5-0b09-443c-afd7-873bb913447f",
   "metadata": {},
   "outputs": [
    {
     "name": "stdout",
     "output_type": "stream",
     "text": [
      "0\n",
      "game    2913\n",
      "Name: count, dtype: int64\n",
      "Total games: 2913\n"
     ]
    }
   ],
   "source": [
    "# Assuming the type column is the first column (index 0)\n",
    "game_df = df[df[0] == 'game']\n",
    "\n",
    "# Reset the index if necessary\n",
    "game_df = game_df.reset_index(drop=True)\n",
    "\n",
    "# Verify the filter operation\n",
    "print(game_df[0].value_counts())\n",
    "print(f\"Total games: {len(game_df)}\")"
   ]
  },
  {
   "cell_type": "code",
   "execution_count": 131,
   "id": "1ddc2b79-06fa-42a4-8cf7-20048c1b0cf8",
   "metadata": {},
   "outputs": [
    {
     "name": "stdout",
     "output_type": "stream",
     "text": [
      "Missing values in each column:\n",
      "0        0\n",
      "1        0\n",
      "2        0\n",
      "3        0\n",
      "4        0\n",
      "5      213\n",
      "6      215\n",
      "7      215\n",
      "8        6\n",
      "9        0\n",
      "10       0\n",
      "11     224\n",
      "12    1494\n",
      "13     444\n",
      "14      51\n",
      "15      25\n",
      "16      31\n",
      "17     114\n",
      "18      95\n",
      "19     111\n",
      "dtype: int64\n",
      "20     68\n",
      "21      6\n",
      "22      4\n",
      "23     22\n",
      "24     32\n",
      "25    120\n",
      "26    184\n",
      "27    103\n",
      "28    122\n",
      "29    285\n",
      "30    630\n",
      "31    640\n",
      "32    558\n",
      "33    940\n",
      "34    758\n",
      "35    538\n",
      "36    493\n",
      "37    461\n",
      "38    434\n",
      "39    428\n",
      "dtype: int64\n",
      "40     597\n",
      "41     492\n",
      "42     514\n",
      "43     529\n",
      "44     419\n",
      "45     511\n",
      "46     884\n",
      "47    1119\n",
      "48    1377\n",
      "49    1655\n",
      "50    1729\n",
      "51    1804\n",
      "52    1922\n",
      "53    2032\n",
      "54    2159\n",
      "55    2334\n",
      "56    2529\n",
      "57    2671\n",
      "58    2798\n",
      "59    2874\n",
      "dtype: int64\n",
      "60    2896\n",
      "61    2900\n",
      "62    2907\n",
      "63    2907\n",
      "64    2907\n",
      "65    2911\n",
      "66    2911\n",
      "67    2911\n",
      "68    2911\n",
      "69    2911\n",
      "70    2911\n",
      "71    2912\n",
      "72    2912\n",
      "73    2912\n",
      "74    2912\n",
      "75    2912\n",
      "76    2912\n",
      "77    2912\n",
      "78    2912\n",
      "79    2912\n",
      "80    2912\n",
      "81    2912\n",
      "82    2912\n",
      "83    2912\n",
      "84    2912\n",
      "85    2912\n",
      "86    2912\n",
      "87    2912\n",
      "88    2912\n",
      "89    2913\n",
      "90    2913\n",
      "91    2913\n",
      "dtype: int64\n"
     ]
    }
   ],
   "source": [
    "missing_values = game_df.isnull().sum()\n",
    "print(\"Missing values in each column:\")\n",
    "print(missing_values[0:20])\n",
    "print(missing_values[20:40])\n",
    "print(missing_values[40:60])\n",
    "print(missing_values[60:100])"
   ]
  },
  {
   "cell_type": "code",
   "execution_count": null,
   "id": "2f83d1ec-44b2-41ee-9450-d0c386638c5e",
   "metadata": {},
   "outputs": [],
   "source": []
  }
 ],
 "metadata": {
  "kernelspec": {
   "display_name": "Python 3 (ipykernel)",
   "language": "python",
   "name": "python3"
  },
  "language_info": {
   "codemirror_mode": {
    "name": "ipython",
    "version": 3
   },
   "file_extension": ".py",
   "mimetype": "text/x-python",
   "name": "python",
   "nbconvert_exporter": "python",
   "pygments_lexer": "ipython3",
   "version": "3.11.4"
  }
 },
 "nbformat": 4,
 "nbformat_minor": 5
}
